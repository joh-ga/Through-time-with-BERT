{
 "cells": [
  {
   "cell_type": "markdown",
   "id": "1c91ce61-832c-4d80-90e6-a49f408e3b24",
   "metadata": {},
   "source": [
    "**Reading the GPT3-data**"
   ]
  },
  {
   "cell_type": "code",
   "execution_count": 1,
   "id": "8bbb6c05-0c54-45e2-811f-ddc1c0dcb5e9",
   "metadata": {},
   "outputs": [],
   "source": [
    "import random\n",
    "with open('data/Sentences_GPT3.txt') as f:\n",
    "    d = f.read().lower().splitlines()"
   ]
  },
  {
   "cell_type": "markdown",
   "id": "a4f1c03b-a799-47cd-8e97-7135bc48959b",
   "metadata": {},
   "source": [
    "**Clean and transform GPT3-data**"
   ]
  },
  {
   "cell_type": "code",
   "execution_count": 2,
   "id": "40e5ac98-151c-455f-a51d-e1c8e1d47036",
   "metadata": {},
   "outputs": [],
   "source": [
    "# Eliminate empty entries in the list\n",
    "\n",
    "data = []\n",
    "for item in d:\n",
    "    if len(item)>5:\n",
    "        data.append(item)"
   ]
  },
  {
   "cell_type": "code",
   "execution_count": 3,
   "id": "8b47109f-82ee-4bef-91a3-d89752d156b8",
   "metadata": {},
   "outputs": [],
   "source": [
    "data_tuples = []  # List with tuples consisting of tense, sentence\n",
    "\n",
    "for i in data:\n",
    "    data_tuples.append((i.split(':')[0], i.split(':')[1][1:]))"
   ]
  },
  {
   "cell_type": "markdown",
   "id": "a07693c2-5887-4902-add6-6b04437af593",
   "metadata": {},
   "source": [
    "**Concatenation of GPT3-sentences with adverbs**"
   ]
  },
  {
   "cell_type": "code",
   "execution_count": 4,
   "id": "ca34968c-cc57-4848-8c2c-ca69362084d8",
   "metadata": {},
   "outputs": [],
   "source": [
    "# Reading adverb-data\n",
    "\n",
    "with open('data/Adverbien_Zeitformen.txt') as f:\n",
    "    adverbs = f.read().splitlines()"
   ]
  },
  {
   "cell_type": "code",
   "execution_count": 5,
   "id": "3d3f06fa-eb8d-4f24-81d2-1c6cfcc701cc",
   "metadata": {},
   "outputs": [],
   "source": [
    "# Dictionary, where the keys are the tenses and the values are the adverbs.\n",
    "\n",
    "adverb_dict = {}\n",
    "\n",
    "for item in adverbs:\n",
    "    tense, adverb = item.split(':')\n",
    "    if tense not in adverb_dict:\n",
    "        adverb_dict[tense]=[adverb]\n",
    "    else:       \n",
    "        adverb_dict[tense].append(adverb)   "
   ]
  },
  {
   "cell_type": "code",
   "execution_count": 6,
   "id": "6923cc82-ac73-44dc-acc1-886dc2e12d54",
   "metadata": {},
   "outputs": [],
   "source": [
    "present_continuous = ['present continuous tense']\n",
    "past_continuous = ['past continuous tense', 'past perfect continuous tense']\n",
    "future_continuous = ['future perfect continuous tense']\n",
    "present = ['simple present tense', 'present perfect tense', 'present perfect continuous tense']\n",
    "past = ['simple past tense', 'past perfect tense']\n",
    "future = ['simple future tense', 'future continuous tense', 'future perfect tense']"
   ]
  },
  {
   "cell_type": "code",
   "execution_count": 7,
   "id": "5e34c12e-4d93-4e72-acbb-e046312dd0c1",
   "metadata": {
    "tags": []
   },
   "outputs": [],
   "source": [
    "import random\n",
    "adverb_sentences = []\n",
    "i = 0\n",
    "\n",
    "for sent in data_tuples:\n",
    "    if sent[0] in present:\n",
    "        time_expression = adverb_dict['present'][random.randint(0,len(adverb_dict['present'])-1)]\n",
    "        adverb_sentences.append(time_expression+' '+sent[1])\n",
    "    elif sent[0] in past:\n",
    "        time_expression = adverb_dict['past'][random.randint(0,len(adverb_dict['past'])-1)]\n",
    "        adverb_sentences.append(time_expression+' '+sent[1])\n",
    "    elif sent[0] in future:\n",
    "        time_expression = adverb_dict['future'][random.randint(0,len(adverb_dict['future'])-1)]\n",
    "        adverb_sentences.append(time_expression+' '+sent[1])\n",
    "    elif sent[0] in present_continuous:\n",
    "        time_expression = adverb_dict['present_continuous'][random.randint(0,len(adverb_dict['present_continuous'])-1)]\n",
    "        adverb_sentences.append(time_expression+' '+sent[1])\n",
    "    elif sent[0] in past_continuous:\n",
    "        if random.randint(0,1) == 1:\n",
    "            time_expression = adverb_dict['past_continuous'][random.randint(0,len(adverb_dict['past_continuous'])-1)]\n",
    "        else:\n",
    "            time_expression = adverb_dict['past'][random.randint(0,len(adverb_dict['past'])-1)]\n",
    "        adverb_sentences.append(time_expression+' '+sent[1])\n",
    "    elif sent[0] in future_continuous:\n",
    "        time_expression = adverb_dict['future_continuous'][random.randint(0,len(adverb_dict['future_continuous'])-1)]\n",
    "        adverb_sentences.append(time_expression+' '+sent[1])"
   ]
  },
  {
   "cell_type": "code",
   "execution_count": 8,
   "id": "1e712480-6cda-452d-b634-53138ec92202",
   "metadata": {},
   "outputs": [],
   "source": [
    "# The new sentences with adverbs are safed in a txt file\n",
    "\n",
    "with open ('data/adverbSentences.txt', 'w') as f:\n",
    "    for i in adverb_sentences:\n",
    "        f.write (i)\n",
    "        f.write ('\\n')"
   ]
  },
  {
   "cell_type": "code",
   "execution_count": null,
   "id": "3432d730-3296-4efb-a9f7-581e9453a736",
   "metadata": {},
   "outputs": [],
   "source": []
  }
 ],
 "metadata": {
  "kernelspec": {
   "display_name": "Python 3",
   "language": "python",
   "name": "python3"
  },
  "language_info": {
   "codemirror_mode": {
    "name": "ipython",
    "version": 3
   },
   "file_extension": ".py",
   "mimetype": "text/x-python",
   "name": "python",
   "nbconvert_exporter": "python",
   "pygments_lexer": "ipython3",
   "version": "3.8.8"
  }
 },
 "nbformat": 4,
 "nbformat_minor": 5
}
